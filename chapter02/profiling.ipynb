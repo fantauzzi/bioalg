{
 "cells": [
  {
   "cell_type": "code",
   "execution_count": 37,
   "metadata": {},
   "outputs": [],
   "source": [
    "import pstats"
   ]
  },
  {
   "cell_type": "code",
   "execution_count": 40,
   "metadata": {},
   "outputs": [
    {
     "data": {
      "text/plain": [
       "<pstats.Stats at 0x7fe77767ab00>"
      ]
     },
     "execution_count": 40,
     "metadata": {},
     "output_type": "execute_result"
    }
   ],
   "source": [
    "file_name = 'profile.3'\n",
    "p = pstats.Stats(file_name)\n",
    "p.strip_dirs()\n",
    "p.sort_stats('cumtime')"
   ]
  },
  {
   "cell_type": "code",
   "execution_count": 41,
   "metadata": {},
   "outputs": [
    {
     "name": "stdout",
     "output_type": "stream",
     "text": [
      "Sun Feb  3 11:16:22 2019    profile.3\n",
      "\n",
      "         5536759 function calls (4780192 primitive calls) in 3.349 seconds\n",
      "\n",
      "   Ordered by: cumulative time\n",
      "   List reduced from 4729 to 54 due to restriction <'hidden_motif.py'>\n",
      "\n",
      "   ncalls  tottime  percall  cumtime  percall filename:lineno(function)\n",
      "    14561    0.600    0.000    1.738    0.000 hidden_motif.py:231(profile_most_probable_kmer)\n",
      "        1    0.000    0.000    1.282    1.282 test_hidden_motif.py:173(test_greedy_motif_search_with_pseudocounts)\n",
      "        2    0.004    0.002    1.282    0.641 hidden_motif.py:365(greedy_motif_search_with_pseudocounts)\n",
      "        1    0.000    0.000    0.834    0.834 test_hidden_motif.py:196(test_mc_test_randomized_motif_search)\n",
      "        1    0.001    0.001    0.834    0.834 hidden_motif.py:421(mc_randomized_motif_search)\n",
      "     1000    0.008    0.000    0.833    0.001 hidden_motif.py:390(randomized_motif_search)\n",
      "   780446    0.607    0.000    0.607    0.000 hidden_motif.py:246(<listcomp>)\n",
      "     2200    0.004    0.000    0.562    0.000 hidden_motif.py:407(<listcomp>)\n",
      "669960/87400    0.305    0.000    0.476    0.000 hidden_motif.py:144(number_to_kmer)\n",
      "        1    0.006    0.006    0.391    0.391 test_hidden_motif.py:98(test_all_kmers)\n",
      "    65559    0.017    0.000    0.386    0.000 hidden_motif.py:168(all_kmers)\n",
      "        1    0.000    0.000    0.299    0.299 test_hidden_motif.py:1(<module>)\n",
      "        1    0.000    0.000    0.298    0.298 hidden_motif.py:1(<module>)\n",
      "        1    0.013    0.013    0.259    0.259 test_hidden_motif.py:90(test_dna_to_number)\n",
      "     3467    0.056    0.000    0.225    0.000 hidden_motif.py:259(score_motif)\n",
      "   837440    0.215    0.000    0.215    0.000 hidden_motif.py:119(nucleotide_numbering)\n",
      "   800116    0.162    0.000    0.165    0.000 hidden_motif.py:37(kmers_from_dna)\n",
      "167480/21844    0.088    0.000    0.138    0.000 hidden_motif.py:129(kmer_to_number)\n",
      "     5821    0.106    0.000    0.107    0.000 hidden_motif.py:321(laplace_profile_matrix)\n",
      "        1    0.000    0.000    0.016    0.016 test_hidden_motif.py:205(test_gibbs_sampler)\n",
      "        1    0.004    0.004    0.016    0.016 hidden_motif.py:452(gibbs_sampler)\n",
      "    28220    0.015    0.000    0.015    0.000 hidden_motif.py:271(<listcomp>)\n",
      "     1000    0.002    0.000    0.011    0.000 hidden_motif.py:402(<listcomp>)\n",
      "        1    0.000    0.000    0.005    0.005 test_hidden_motif.py:28(test_motif_enumeration)\n",
      "        1    0.000    0.000    0.005    0.005 stepik_hidden_motif.py:41(motif_enumeration)\n",
      "      481    0.001    0.000    0.004    0.000 stepik_hidden_motif.py:50(is_kmer_in_dna)\n",
      "     1818    0.001    0.000    0.003    0.000 hidden_motif.py:20(hamming_distance)\n",
      "     2500    0.002    0.000    0.002    0.000 hidden_motif.py:478(<listcomp>)\n",
      "        1    0.000    0.000    0.001    0.001 test_hidden_motif.py:145(test_GreedyMotifSearch)\n",
      "        1    0.000    0.000    0.001    0.001 hidden_motif.py:282(greedy_motifs_search)\n",
      "     7512    0.001    0.000    0.001    0.000 hidden_motif.py:28(<genexpr>)\n",
      "       10    0.000    0.000    0.000    0.000 hidden_motif.py:58(generalised_hamming_distance)\n",
      "        7    0.000    0.000    0.000    0.000 hidden_motif.py:75(<listcomp>)\n",
      "        1    0.000    0.000    0.000    0.000 test_hidden_motif.py:50(test_generalised_hamming_distance)\n",
      "       20    0.000    0.000    0.000    0.000 stepik_hidden_motif.py:22(neighbors)\n",
      "       41    0.000    0.000    0.000    0.000 hidden_motif.py:210(profile)\n",
      "        1    0.000    0.000    0.000    0.000 test_hidden_motif.py:140(test_score_motif)\n",
      "       20    0.000    0.000    0.000    0.000 stepik_hidden_motif.py:4(immediate_neighbors)\n",
      "      100    0.000    0.000    0.000    0.000 hidden_motif.py:481(<listcomp>)\n",
      "        1    0.000    0.000    0.000    0.000 test_hidden_motif.py:112(test_profile_most_probable_kmer)\n",
      "        1    0.000    0.000    0.000    0.000 test_hidden_motif.py:75(test_kmer_to_motif_distance)\n",
      "        2    0.000    0.000    0.000    0.000 hidden_motif.py:88(kmer_to_dna_distance)\n",
      "        1    0.000    0.000    0.000    0.000 hidden_motif.py:100(<listcomp>)\n",
      "       60    0.000    0.000    0.000    0.000 stepik_hidden_motif.py:17(<listcomp>)\n",
      "        1    0.000    0.000    0.000    0.000 test_hidden_motif.py:126(test_profile_matrix)\n",
      "        1    0.000    0.000    0.000    0.000 test_hidden_motif.py:152(test_laplace_profile_matrix)\n",
      "        1    0.000    0.000    0.000    0.000 test_hidden_motif.py:8(test_kmers_from_dna)\n",
      "        1    0.000    0.000    0.000    0.000 hidden_motif.py:464(<listcomp>)\n",
      "        1    0.000    0.000    0.000    0.000 test_hidden_motif.py:36(test_hamming_distance)\n",
      "        1    0.000    0.000    0.000    0.000 test_hidden_motif.py:10(<listcomp>)\n",
      "        1    0.000    0.000    0.000    0.000 test_hidden_motif.py:85(test_flattened)\n",
      "        1    0.000    0.000    0.000    0.000 test_hidden_motif.py:183(<listcomp>)\n",
      "        1    0.000    0.000    0.000    0.000 stepik_hidden_motif.py:1(<module>)\n",
      "        1    0.000    0.000    0.000    0.000 hidden_motif.py:104(flattened)\n",
      "\n",
      "\n"
     ]
    },
    {
     "data": {
      "text/plain": [
       "<pstats.Stats at 0x7fe77767ab00>"
      ]
     },
     "execution_count": 41,
     "metadata": {},
     "output_type": "execute_result"
    }
   ],
   "source": [
    "p.print_stats('hidden_motif.py')"
   ]
  },
  {
   "cell_type": "code",
   "execution_count": 21,
   "metadata": {},
   "outputs": [
    {
     "name": "stdout",
     "output_type": "stream",
     "text": [
      "Sun Feb  3 10:43:49 2019    profile_new\n",
      "\n",
      "         495970074 function calls (494430495 primitive calls) in 264.735 seconds\n",
      "\n",
      "   Ordered by: internal time\n",
      "   List reduced from 4980 to 20 due to restriction <20>\n",
      "\n",
      "   ncalls  tottime  percall  cumtime  percall filename:lineno(function)\n",
      "  8889960   21.161    0.000  136.131    0.000 base.py:4287(get_value)\n",
      "  8889960   20.138    0.000   37.340    0.000 frame.py:2883(__getitem__)\n",
      " 37487489   13.606    0.000   26.046    0.000 {built-in method builtins.getattr}\n",
      "  8889960   11.984    0.000  151.242    0.000 series.py:865(__getitem__)\n",
      "  8889960   11.943    0.000   12.007    0.000 {method 'get_value' of 'pandas._libs.index.IndexEngine' objects}\n",
      "  8889960   11.721    0.000   42.855    0.000 numeric.py:203(_convert_scalar_indexer)\n",
      "   613560   10.820    0.000   40.618    0.000 managers.py:1019(set)\n",
      " 17785741   10.307    0.000   29.334    0.000 {pandas._libs.lib.values_from_object}\n",
      "28017145/28016801    9.558    0.000   18.305    0.000 {built-in method builtins.isinstance}\n",
      "   780446    9.141    0.000  179.850    0.000 hidden_motif.py:244(<listcomp>)\n",
      "  8889960    6.506    0.000   27.898    0.000 base.py:2794(_convert_scalar_indexer)\n",
      "  8889960    5.988    0.000   16.306    0.000 managers.py:1556(get_values)\n",
      "  8889960    5.556    0.000    6.769    0.000 base.py:3863(__contains__)\n",
      "  9585014    5.157    0.000    8.413    0.000 range.py:504(__len__)\n",
      " 10730656    5.047    0.000    8.184    0.000 managers.py:1549(internal_values)\n",
      "16887283/16162488    5.040    0.000   13.687    0.000 {built-in method builtins.len}\n",
      " 11344200    5.003    0.000    8.858    0.000 managers.py:1522(dtype)\n",
      " 15081802    4.980    0.000    8.660    0.000 generic.py:7(_check)\n",
      " 30970637    4.813    0.000    4.813    0.000 managers.py:1488(_block)\n",
      "  8901604    4.030    0.000    4.030    0.000 {method 'view' of 'numpy.ndarray' objects}\n",
      "\n",
      "\n"
     ]
    },
    {
     "data": {
      "text/plain": [
       "<pstats.Stats at 0x7fe78504be48>"
      ]
     },
     "execution_count": 21,
     "metadata": {},
     "output_type": "execute_result"
    }
   ],
   "source": [
    "p.print_stats(20)"
   ]
  },
  {
   "cell_type": "markdown",
   "metadata": {},
   "source": [
    "- *ncalls* for the number of calls.\n",
    "- *tottime* for the total time spent in the given function (and excluding time made in calls to sub-functions)\n",
    "- *percall* is the quotient of tottime divided by ncalls\n",
    "- *cumtime* is the cumulative time spent in this and all subfunctions (from invocation till exit). This figure is accurate even for recursive functions.\n",
    "- *percall* is the quotient of cumtime divided by primitive calls\n",
    "- *filename:lineno(function)* provides the respective data of each function "
   ]
  },
  {
   "cell_type": "code",
   "execution_count": null,
   "metadata": {},
   "outputs": [],
   "source": []
  },
  {
   "cell_type": "code",
   "execution_count": null,
   "metadata": {},
   "outputs": [],
   "source": []
  },
  {
   "cell_type": "code",
   "execution_count": null,
   "metadata": {},
   "outputs": [],
   "source": []
  },
  {
   "cell_type": "code",
   "execution_count": null,
   "metadata": {},
   "outputs": [],
   "source": [
    "p.strip_dirs()\n",
    "p.sort_stats('tottime')\n",
    "p.print_stats(50)"
   ]
  }
 ],
 "metadata": {
  "kernelspec": {
   "display_name": "Python 3",
   "language": "python",
   "name": "python3"
  },
  "language_info": {
   "codemirror_mode": {
    "name": "ipython",
    "version": 3
   },
   "file_extension": ".py",
   "mimetype": "text/x-python",
   "name": "python",
   "nbconvert_exporter": "python",
   "pygments_lexer": "ipython3",
   "version": "3.6.6"
  }
 },
 "nbformat": 4,
 "nbformat_minor": 2
}
